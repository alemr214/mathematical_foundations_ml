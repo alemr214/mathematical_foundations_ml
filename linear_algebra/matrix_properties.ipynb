{
 "cells": [
  {
   "cell_type": "markdown",
   "metadata": {},
   "source": [
    "# Linear algebra: Matrix Operations"
   ]
  },
  {
   "cell_type": "markdown",
   "metadata": {},
   "source": [
    "## Libraries\n",
    "\n",
    "To check every exercise here, import all libraries first, and then, run all codes below"
   ]
  },
  {
   "cell_type": "code",
   "execution_count": 1,
   "metadata": {},
   "outputs": [],
   "source": [
    "import torch as pt"
   ]
  },
  {
   "cell_type": "markdown",
   "metadata": {},
   "source": [
    "## Forbenius Norm\n",
    "\n",
    "Frobenius norm is analogous to the L2 norm vector because both of them measure the size of matrices and vectors respectively in terms of Euclidean distance\n",
    "- It's the sum of the magnitude of all the vectors in <strong>*X*</strong>\n",
    "- Described by:\n",
    "$$\n",
    "    \\left\\| X \\right\\|_{F} = \\sqrt{\\sum_{i,j} x^{2}_{i,j}}\n",
    "$$"
   ]
  },
  {
   "cell_type": "code",
   "execution_count": 10,
   "metadata": {},
   "outputs": [],
   "source": [
    "X = pt.tensor([[1, 2], [3, 4]], dtype=pt.float32) # Tensorflow and PyTorch requieres floats to work"
   ]
  },
  {
   "cell_type": "code",
   "execution_count": 8,
   "metadata": {},
   "outputs": [
    {
     "data": {
      "text/plain": [
       "tensor(5.4772)"
      ]
     },
     "execution_count": 8,
     "metadata": {},
     "output_type": "execute_result"
    }
   ],
   "source": [
    "pt.norm(X) # Default norm is L2"
   ]
  },
  {
   "cell_type": "markdown",
   "metadata": {},
   "source": [
    "## Matrix Multiplication\n",
    "\n",
    "The matrix multiplication is an operation with one important rule:\n",
    "\n",
    "- Having matrices A and B, the columns and rows between them need to be equal\n",
    "\n",
    "The formula to describes matrix multiplication is:\n",
    "$$\n",
    "C_{i,k} = \\sum_{j}A_{i,j}B_{j,k}\n",
    "$$"
   ]
  },
  {
   "cell_type": "code",
   "execution_count": null,
   "metadata": {},
   "outputs": [],
   "source": []
  }
 ],
 "metadata": {
  "kernelspec": {
   "display_name": ".venv",
   "language": "python",
   "name": "python3"
  },
  "language_info": {
   "codemirror_mode": {
    "name": "ipython",
    "version": 3
   },
   "file_extension": ".py",
   "mimetype": "text/x-python",
   "name": "python",
   "nbconvert_exporter": "python",
   "pygments_lexer": "ipython3",
   "version": "3.12.8"
  }
 },
 "nbformat": 4,
 "nbformat_minor": 2
}
