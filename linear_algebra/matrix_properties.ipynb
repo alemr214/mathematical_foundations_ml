{
 "cells": [
  {
   "cell_type": "markdown",
   "metadata": {},
   "source": [
    "# Linear algebra: Matrix Operations"
   ]
  },
  {
   "cell_type": "markdown",
   "metadata": {},
   "source": [
    "## Forbenius Norm\n",
    "\n",
    "Frobenius norm is analogous to the L2 norm vector because both of them measure the size of matrices and vectors respectively in terms of Euclidean distance\n",
    "- It's the sum of the magnitude of all the vectors in <strong>*X*</strong>\n",
    "- Described by:\n",
    "$$\n",
    "    \\left\\| X \\right\\|_{F} = \\sqrt{\\sum_{i,j} x^{2}_{i,j}}\n",
    "$$"
   ]
  },
  {
   "cell_type": "markdown",
   "metadata": {},
   "source": []
  }
 ],
 "metadata": {
  "language_info": {
   "name": "python"
  }
 },
 "nbformat": 4,
 "nbformat_minor": 2
}
