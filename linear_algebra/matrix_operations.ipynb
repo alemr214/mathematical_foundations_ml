{
 "cells": [
  {
   "cell_type": "markdown",
   "metadata": {},
   "source": [
    "# Linear algebra: Matrix operations"
   ]
  },
  {
   "cell_type": "markdown",
   "metadata": {},
   "source": [
    "## Libraries\n",
    "\n",
    "To check every exercise here, import all libraries first, and then, run all codes below"
   ]
  },
  {
   "cell_type": "code",
   "execution_count": 49,
   "metadata": {},
   "outputs": [],
   "source": [
    "import numpy as np\n",
    "import torch as pt\n",
    "import tensorflow as tf"
   ]
  },
  {
   "cell_type": "markdown",
   "metadata": {},
   "source": [
    "---"
   ]
  },
  {
   "cell_type": "markdown",
   "metadata": {},
   "source": [
    "## Eigenvectors and eigenvalues\n",
    "\n",
    "Eigenvectors is a special vector $v$ such that when it is transformed by some matrix, the product $Av$ has the same direction as $v$.\n",
    "\n",
    "An eigenvalue is a scalar (traditionally represented as $\\lambda$) that simply scales the eigenvector $v$ such that the following equation is satisfied:\n",
    "\n",
    "$$Av = \\lambda v$$\n",
    "\n",
    "> This topic applies only to square matrices, though in linear algebra we have singular value decomposition (SVD) which uses singular values and singular vectors and can be used in non-square matrices."
   ]
  },
  {
   "cell_type": "markdown",
   "metadata": {},
   "source": [
    "### Numpy"
   ]
  },
  {
   "cell_type": "code",
   "execution_count": 50,
   "metadata": {},
   "outputs": [
    {
     "data": {
      "text/plain": [
       "array([[4, 1],\n",
       "       [2, 3]])"
      ]
     },
     "execution_count": 50,
     "metadata": {},
     "output_type": "execute_result"
    }
   ],
   "source": [
    "A = np.array([[4, 1], [2, 3]])\n",
    "A"
   ]
  },
  {
   "cell_type": "code",
   "execution_count": 51,
   "metadata": {},
   "outputs": [
    {
     "name": "stdout",
     "output_type": "stream",
     "text": [
      "Eigenvalues [5. 2.]\n",
      "Eigenvectors [[ 0.70710678 -0.4472136 ]\n",
      " [ 0.70710678  0.89442719]]\n"
     ]
    }
   ],
   "source": [
    "eigenvalues, eigenvectors = np.linalg.eig(A)\n",
    "print(f\"Eigenvalues {eigenvalues}\")\n",
    "print(f\"Eigenvectors {eigenvectors}\")"
   ]
  },
  {
   "cell_type": "markdown",
   "metadata": {},
   "source": [
    "---"
   ]
  },
  {
   "cell_type": "markdown",
   "metadata": {},
   "source": [
    "### PyTorch"
   ]
  },
  {
   "cell_type": "code",
   "execution_count": 52,
   "metadata": {},
   "outputs": [
    {
     "data": {
      "text/plain": [
       "tensor([[4., 1.],\n",
       "        [2., 3.]])"
      ]
     },
     "execution_count": 52,
     "metadata": {},
     "output_type": "execute_result"
    }
   ],
   "source": [
    "B = pt.tensor([[4, 1], [2, 3]], dtype=pt.float32)\n",
    "B"
   ]
  },
  {
   "cell_type": "code",
   "execution_count": 53,
   "metadata": {},
   "outputs": [
    {
     "name": "stdout",
     "output_type": "stream",
     "text": [
      "Eigenvalues tensor([5.+0.j, 2.+0.j])\n",
      "Eigenvectors tensor([[ 0.7071+0.j, -0.4472+0.j],\n",
      "        [ 0.7071+0.j,  0.8944+0.j]])\n"
     ]
    }
   ],
   "source": [
    "eigenvalues, eigenvectors = pt.linalg.eig(B)\n",
    "print(f\"Eigenvalues {eigenvalues}\")\n",
    "print(f\"Eigenvectors {eigenvectors}\")"
   ]
  },
  {
   "cell_type": "markdown",
   "metadata": {},
   "source": [
    "### Tensorflow"
   ]
  },
  {
   "cell_type": "code",
   "execution_count": 54,
   "metadata": {},
   "outputs": [
    {
     "data": {
      "text/plain": [
       "<tf.Variable 'Variable:0' shape=(2, 2) dtype=float32, numpy=\n",
       "array([[4., 1.],\n",
       "       [2., 3.]], dtype=float32)>"
      ]
     },
     "execution_count": 54,
     "metadata": {},
     "output_type": "execute_result"
    }
   ],
   "source": [
    "C = tf.Variable([[4, 1], [2, 3]], dtype=tf.float32)\n",
    "C"
   ]
  },
  {
   "cell_type": "code",
   "execution_count": 55,
   "metadata": {},
   "outputs": [
    {
     "name": "stdout",
     "output_type": "stream",
     "text": [
      "Eigenvalues [4.9999995+0.j 1.9999999+0.j]\n",
      "Eigenvectors [[ 0.70710677+0.j -0.4472136 +0.j]\n",
      " [ 0.70710677+0.j  0.89442724+0.j]]\n"
     ]
    }
   ],
   "source": [
    "eigenvalues, eigenvectors = tf.linalg.eig(C)\n",
    "print(f\"Eigenvalues {eigenvalues}\")\n",
    "print(f\"Eigenvectors {eigenvectors}\")"
   ]
  },
  {
   "cell_type": "markdown",
   "metadata": {},
   "source": [
    "> In PyTorch and TensorFlow if you use `torch.linalg.eig` you can get complex values. If the matrix is symmetric you can also use `torch.linalg.eigh` to get real eigenvalues."
   ]
  },
  {
   "cell_type": "markdown",
   "metadata": {},
   "source": [
    "---"
   ]
  },
  {
   "cell_type": "markdown",
   "metadata": {},
   "source": [
    "## Matrices determinants\n",
    "\n",
    "Matrix determinants A matrix determinant is a scalar value that can map a square matrix into it \n",
    "- Enable us to determine whether the matrix can be inverted. \n",
    "- It is denoted by:\n",
    "$$ det(X) $$\n",
    "\n",
    "If $det(X) = 0$:\n",
    "- Matrix $X^{-1}$ can't be computed because: $X^{-1}$ has $1/det(X) = 1/0$\n",
    "- Matrix $X$ is singular: It contains linearly dependent columns."
   ]
  },
  {
   "cell_type": "markdown",
   "metadata": {},
   "source": [
    "### Numpy"
   ]
  },
  {
   "cell_type": "code",
   "execution_count": 56,
   "metadata": {},
   "outputs": [
    {
     "data": {
      "text/plain": [
       "array([[ 4,  2],\n",
       "       [-5, -3]])"
      ]
     },
     "execution_count": 56,
     "metadata": {},
     "output_type": "execute_result"
    }
   ],
   "source": [
    "A = np.array([[4, 2], [-5 , -3]])\n",
    "A"
   ]
  },
  {
   "cell_type": "code",
   "execution_count": 57,
   "metadata": {},
   "outputs": [
    {
     "data": {
      "text/plain": [
       "np.float64(-2.0000000000000004)"
      ]
     },
     "execution_count": 57,
     "metadata": {},
     "output_type": "execute_result"
    }
   ],
   "source": [
    "np.linalg.det(A)"
   ]
  },
  {
   "cell_type": "markdown",
   "metadata": {},
   "source": [
    "### PyTorch"
   ]
  },
  {
   "cell_type": "code",
   "execution_count": 58,
   "metadata": {},
   "outputs": [
    {
     "data": {
      "text/plain": [
       "tensor([[ 4.,  2.],\n",
       "        [-5., -3.]])"
      ]
     },
     "execution_count": 58,
     "metadata": {},
     "output_type": "execute_result"
    }
   ],
   "source": [
    "B = pt.tensor([[4, 2], [-5 , -3]], dtype=pt.float32) # PyTorch and TensorFlow need to be float values to work with\n",
    "B"
   ]
  },
  {
   "cell_type": "code",
   "execution_count": 59,
   "metadata": {},
   "outputs": [
    {
     "data": {
      "text/plain": [
       "tensor(-2.)"
      ]
     },
     "execution_count": 59,
     "metadata": {},
     "output_type": "execute_result"
    }
   ],
   "source": [
    "pt.linalg.det(B)"
   ]
  },
  {
   "cell_type": "markdown",
   "metadata": {},
   "source": [
    "### TensorFlow"
   ]
  },
  {
   "cell_type": "code",
   "execution_count": 60,
   "metadata": {},
   "outputs": [
    {
     "data": {
      "text/plain": [
       "<tf.Variable 'Variable:0' shape=(2, 2) dtype=float32, numpy=\n",
       "array([[ 4.,  2.],\n",
       "       [-5., -3.]], dtype=float32)>"
      ]
     },
     "execution_count": 60,
     "metadata": {},
     "output_type": "execute_result"
    }
   ],
   "source": [
    "C = tf.Variable([[4, 2], [-5, -3]], dtype=tf.float32)\n",
    "C"
   ]
  },
  {
   "cell_type": "code",
   "execution_count": 61,
   "metadata": {},
   "outputs": [
    {
     "data": {
      "text/plain": [
       "<tf.Tensor: shape=(), dtype=float32, numpy=-2.000000476837158>"
      ]
     },
     "execution_count": 61,
     "metadata": {},
     "output_type": "execute_result"
    }
   ],
   "source": [
    "tf.linalg.det(C)"
   ]
  },
  {
   "cell_type": "markdown",
   "metadata": {},
   "source": [
    "---"
   ]
  },
  {
   "cell_type": "markdown",
   "metadata": {},
   "source": [
    "## Determinants and eigenvalues\n",
    "\n",
    "The determinant of a matrix is the product of all eigenvalues of the matrix. \n",
    "\n",
    "$$det(X) = \\prod \\lambda v$$\n",
    "\n",
    "The determinant quantifies volume change as a result of applying X:\n",
    "- If $|det(X)| = 0$, then $X$ collapses space completely in at least one dimension, thereby eliminating all volume.\n",
    "- If $0 < |det(X)| < 1$, then $X$ contracts volume to some extent.\n",
    "- If $|det(X)| = 1$, then $X$ preserves volume exactly.\n",
    "- If |$det(X)| > 1$, then X expands volume."
   ]
  },
  {
   "cell_type": "markdown",
   "metadata": {},
   "source": [
    "---"
   ]
  },
  {
   "cell_type": "markdown",
   "metadata": {},
   "source": [
    "## Eigendescomposition\n",
    "\n",
    "Having a square matrix A n x n, then eigendecomposition is denoted by:\n",
    "\n",
    "$$A = V \\Lambda V^{-1}$$\n",
    "\n",
    "Where:\n",
    "- $V$ is a square matrix **n x n** where its columns are the eigenvectors of $A$.\n",
    "- $\\Lambda$ is a diagonal matrix **n x n** whose elements are the eigenvalues of $A$.\n",
    "- $V^{-1}$ is the inverse of $V$ always $V$ has inversion."
   ]
  },
  {
   "cell_type": "code",
   "execution_count": 62,
   "metadata": {},
   "outputs": [
    {
     "data": {
      "text/plain": [
       "tensor([[25.,  2., -5.],\n",
       "        [ 3., -2.,  1.],\n",
       "        [ 5.,  7.,  4.]])"
      ]
     },
     "execution_count": 62,
     "metadata": {},
     "output_type": "execute_result"
    }
   ],
   "source": [
    "V = pt.tensor([[25, 2, -5], [3, -2, 1], [5, 7, 4]], dtype=pt.float32) # Original matrix\n",
    "V"
   ]
  },
  {
   "cell_type": "code",
   "execution_count": 63,
   "metadata": {},
   "outputs": [
    {
     "name": "stdout",
     "output_type": "stream",
     "text": [
      "Eigenvalues tensor([23.7644+0.j,  6.6684+0.j, -3.4328+0.j])\n",
      "Eigenvectors tensor([[ 0.9511+0.j, -0.2386+0.j,  0.1626+0.j],\n",
      "        [ 0.1218+0.j, -0.1924+0.j, -0.7705+0.j],\n",
      "        [ 0.2837+0.j, -0.9519+0.j,  0.6163+0.j]])\n"
     ]
    }
   ],
   "source": [
    "eigenvalues, eigenvectors = pt.linalg.eig(V) # Eigenvalues and eigenvectors\n",
    "print(f\"Eigenvalues {eigenvalues}\")\n",
    "print(f\"Eigenvectors {eigenvectors}\")"
   ]
  },
  {
   "cell_type": "code",
   "execution_count": 64,
   "metadata": {},
   "outputs": [
    {
     "data": {
      "text/plain": [
       "tensor([[23.7644+0.j,  0.0000+0.j,  0.0000+0.j],\n",
       "        [ 0.0000+0.j,  6.6684+0.j,  0.0000+0.j],\n",
       "        [ 0.0000+0.j,  0.0000+0.j, -3.4328+0.j]])"
      ]
     },
     "execution_count": 64,
     "metadata": {},
     "output_type": "execute_result"
    }
   ],
   "source": [
    "diag = pt.diag(eigenvalues) # Diagonal matrix of eigenvalues\n",
    "diag"
   ]
  },
  {
   "cell_type": "code",
   "execution_count": 65,
   "metadata": {},
   "outputs": [
    {
     "data": {
      "text/plain": [
       "tensor([[25.0000+0.j,  2.0000+0.j, -5.0000+0.j],\n",
       "        [ 3.0000+0.j, -2.0000+0.j,  1.0000+0.j],\n",
       "        [ 5.0000+0.j,  7.0000+0.j,  4.0000+0.j]])"
      ]
     },
     "execution_count": 65,
     "metadata": {},
     "output_type": "execute_result"
    }
   ],
   "source": [
    "original_V = eigenvectors @ diag @ pt.linalg.inv(eigenvectors) # Reconstruct original matrix\n",
    "original_V"
   ]
  },
  {
   "cell_type": "code",
   "execution_count": null,
   "metadata": {},
   "outputs": [],
   "source": []
  }
 ],
 "metadata": {
  "kernelspec": {
   "display_name": ".venv",
   "language": "python",
   "name": "python3"
  },
  "language_info": {
   "codemirror_mode": {
    "name": "ipython",
    "version": 3
   },
   "file_extension": ".py",
   "mimetype": "text/x-python",
   "name": "python",
   "nbconvert_exporter": "python",
   "pygments_lexer": "ipython3",
   "version": "3.12.8"
  }
 },
 "nbformat": 4,
 "nbformat_minor": 2
}
